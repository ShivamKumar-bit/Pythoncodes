{
  "nbformat": 4,
  "nbformat_minor": 0,
  "metadata": {
    "colab": {
      "name": "scrapping.ipynb",
      "provenance": [],
      "collapsed_sections": []
    },
    "kernelspec": {
      "name": "python3",
      "display_name": "Python 3"
    }
  },
  "cells": [
    {
      "cell_type": "code",
      "metadata": {
        "id": "_K1AcBFaIFmv",
        "colab_type": "code",
        "colab": {}
      },
      "source": [
        "import requests\n",
        "import bs4\n",
        "import pandas as pd\n",
        "from tkinter import *\n",
        "from tkinter import messagebox\n",
        "import sys "
      ],
      "execution_count": 2,
      "outputs": []
    },
    {
      "cell_type": "code",
      "metadata": {
        "id": "c71AoJqsIWRb",
        "colab_type": "code",
        "colab": {
          "base_uri": "https://localhost:8080/",
          "height": 34
        },
        "outputId": "ae184a1f-7ed4-4b5e-c527-9fa9a716707f"
      },
      "source": [
        "res = requests.get('https://www.cnbc.com/2019/12/12/linkedin-indias-fastest-growing-jobs-and-the-skills-they-require.html')\n",
        "type(res)"
      ],
      "execution_count": 8,
      "outputs": [
        {
          "output_type": "execute_result",
          "data": {
            "text/plain": [
              "requests.models.Response"
            ]
          },
          "metadata": {
            "tags": []
          },
          "execution_count": 8
        }
      ]
    },
    {
      "cell_type": "code",
      "metadata": {
        "id": "Pbx_TdqbIlbN",
        "colab_type": "code",
        "colab": {}
      },
      "source": [
        "soup = bs4.BeautifulSoup(res.text,'lxml')\n"
      ],
      "execution_count": 9,
      "outputs": []
    },
    {
      "cell_type": "code",
      "metadata": {
        "id": "vvs_aFa-IwqR",
        "colab_type": "code",
        "colab": {
          "base_uri": "https://localhost:8080/",
          "height": 289
        },
        "outputId": "22573a75-849b-42c7-aadc-ece71e586d50"
      },
      "source": [
        "g =int(input(\" press 1 for Job trends 2 for exit--> \"))\n",
        "if g==1 :\n",
        "  soup.select('.ArticleBody-styles-makeit-subtitle--LnHeO')\n",
        "  for i in soup.select('.ArticleBody-styles-makeit-subtitle--LnHeO'):\n",
        "    print(i.text)\n",
        "else:\n",
        "  exit   "
      ],
      "execution_count": 10,
      "outputs": [
        {
          "output_type": "stream",
          "text": [
            " press 1 for Job trends 2 for exit--> 1\n",
            "15. Lead generation specialist\n",
            "14. Front-end engineer\n",
            "13. Digital marketing specialist\n",
            "12. Python developer\n",
            "11. Cybersecurity specialist\n",
            "10. Robotics engineer (software)\n",
            "9. Full stack engineer\n",
            "8. Customer success specialist\n",
            "7. Site reliability engineer\n",
            "6. Growth manager\n",
            "5. Back-end developer\n",
            "4. Robotic process automation consultant\n",
            "3. JavaScript developer\n",
            "2. Artificial intelligence specialist\n",
            "1. Blockchain developer\n"
          ],
          "name": "stdout"
        }
      ]
    },
    {
      "cell_type": "code",
      "metadata": {
        "id": "eoFiF0awIgDy",
        "colab_type": "code",
        "colab": {}
      },
      "source": [
        ""
      ],
      "execution_count": 4,
      "outputs": []
    },
    {
      "cell_type": "code",
      "metadata": {
        "id": "LV1QvV8GQAvu",
        "colab_type": "code",
        "colab": {}
      },
      "source": [
        ""
      ],
      "execution_count": 4,
      "outputs": []
    }
  ]
}